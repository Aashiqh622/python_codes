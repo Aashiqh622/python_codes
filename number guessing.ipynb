{
 "cells": [
  {
   "cell_type": "code",
   "execution_count": 1,
   "id": "beaa1706",
   "metadata": {},
   "outputs": [],
   "source": [
    "import random"
   ]
  },
  {
   "cell_type": "code",
   "execution_count": 2,
   "id": "f9f3d1ce",
   "metadata": {},
   "outputs": [],
   "source": [
    "# making a list of numbers from 0 to 100\n",
    "numbers=[]\n",
    "for i in range(101):\n",
    "    numbers.append(i)\n"
   ]
  },
  {
   "cell_type": "code",
   "execution_count": 3,
   "id": "9ec4b870",
   "metadata": {},
   "outputs": [],
   "source": [
    "#function to get a random number from the list\n",
    "def Rand_num():\n",
    "    number=random.choice(numbers)\n",
    "    return number\n",
    "    "
   ]
  },
  {
   "cell_type": "code",
   "execution_count": 4,
   "id": "4b8a3f9b",
   "metadata": {},
   "outputs": [],
   "source": [
    "#storing the random number returned by the function Rand_num() to a variable\n",
    "n=Rand_num()"
   ]
  },
  {
   "cell_type": "code",
   "execution_count": 5,
   "id": "27aa34ec",
   "metadata": {},
   "outputs": [
    {
     "name": "stdout",
     "output_type": "stream",
     "text": [
      "welcome to the game\n"
     ]
    }
   ],
   "source": [
    "print(\"welcome to the game\")"
   ]
  },
  {
   "cell_type": "code",
   "execution_count": 6,
   "id": "2f5d1764",
   "metadata": {},
   "outputs": [
    {
     "name": "stdout",
     "output_type": "stream",
     "text": [
      "im thinking of number 1 to 100\n"
     ]
    }
   ],
   "source": [
    "print(\"im thinking of number 1 to 100\")"
   ]
  },
  {
   "cell_type": "code",
   "execution_count": 7,
   "id": "54b35b57",
   "metadata": {},
   "outputs": [
    {
     "name": "stdout",
     "output_type": "stream",
     "text": [
      "easy or hardeasy\n"
     ]
    }
   ],
   "source": [
    "easy_hard=input(\"easy or hard\").lower()"
   ]
  },
  {
   "cell_type": "code",
   "execution_count": 8,
   "id": "c13d4351",
   "metadata": {},
   "outputs": [],
   "source": [
    "#funtion to set lives\n",
    "def lives(easy_hard):\n",
    "    life =0\n",
    "    if easy_hard==\"easy\":\n",
    "        life=10\n",
    "    if easy_hard==\"hard\":\n",
    "        life=5\n",
    "    return life\n",
    "    \n"
   ]
  },
  {
   "cell_type": "code",
   "execution_count": 9,
   "id": "0c0dba61",
   "metadata": {},
   "outputs": [],
   "source": [
    "#setting life to a variable\n",
    "lives=lives(easy_hard)"
   ]
  },
  {
   "cell_type": "code",
   "execution_count": 10,
   "id": "d4e1ea70",
   "metadata": {},
   "outputs": [
    {
     "name": "stdout",
     "output_type": "stream",
     "text": [
      "you have 10 lives remaining\n",
      "select a guess a number40\n",
      "too big\n",
      "you have 9 lives remaining\n",
      "select a guess a number30\n",
      "too big\n",
      "you have 8 lives remaining\n",
      "select a guess a number20\n",
      "too low\n",
      "you have 7 lives remaining\n",
      "select a guess a number25\n",
      "too big\n",
      "you have 6 lives remaining\n",
      "select a guess a number22\n",
      "too low\n",
      "you have 5 lives remaining\n",
      "select a guess a number23\n",
      "too low\n",
      "you have 4 lives remaining\n",
      "select a guess a number24\n",
      "correct answer congrats . You Win!\n"
     ]
    }
   ],
   "source": [
    "#main loop to execute the game\n",
    "game_over=False\n",
    "while game_over==False:\n",
    "    print(f\"you have {lives} lives remaining\")\n",
    "    guess=int(input(\"select a guess a number\"))\n",
    "    if guess>n:\n",
    "        print(\"too big\")\n",
    "        lives-=1\n",
    "    elif guess<n:\n",
    "        print(\"too low\")\n",
    "        lives-=1\n",
    "    else:\n",
    "        print(\"correct answer congrats . You Win!\")\n",
    "        game_over=True\n",
    "        \n",
    "    if lives==0:\n",
    "        print(\"sorry you lost\")\n",
    "        game_over=True\n"
   ]
  },
  {
   "cell_type": "code",
   "execution_count": null,
   "id": "f5a199ae",
   "metadata": {},
   "outputs": [],
   "source": []
  }
 ],
 "metadata": {
  "kernelspec": {
   "display_name": "Python 3",
   "language": "python",
   "name": "python3"
  },
  "language_info": {
   "codemirror_mode": {
    "name": "ipython",
    "version": 3
   },
   "file_extension": ".py",
   "mimetype": "text/x-python",
   "name": "python",
   "nbconvert_exporter": "python",
   "pygments_lexer": "ipython3",
   "version": "3.8.8"
  }
 },
 "nbformat": 4,
 "nbformat_minor": 5
}
